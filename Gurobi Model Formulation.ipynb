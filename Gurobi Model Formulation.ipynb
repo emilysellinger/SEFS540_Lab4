{
 "cells": [
  {
   "cell_type": "markdown",
   "metadata": {},
   "source": [
    " Read in the data and create objects to pass onto Gurobi constraints. Second column in parcel file is area and third column in parcel file is price"
   ]
  },
  {
   "cell_type": "code",
   "execution_count": 1,
   "metadata": {},
   "outputs": [],
   "source": [
    "import numpy as np\n",
    "import pandas as pd\n",
    "parcels_data = np.array(pd.read_csv(\"Parcels.txt\", header = None))"
   ]
  },
  {
   "cell_type": "code",
   "execution_count": 2,
   "metadata": {},
   "outputs": [],
   "source": [
    "import gurobipy as gp\n",
    "from gurobipy import GRB"
   ]
  },
  {
   "cell_type": "code",
   "execution_count": 3,
   "metadata": {},
   "outputs": [
    {
     "name": "stdout",
     "output_type": "stream",
     "text": [
      "[  1   2   3   4   5   6   7   8   9  10  11  12  13  14  15  16  17  18\n",
      "  19  20  21  22  23  24  25  26  27  28  29  30  31  32  33  34  35  36\n",
      "  37  38  39  40  41  42  43  44  45  46  47  48  49  50  51  52  53  54\n",
      "  55  56  57  58  59  60  61  62  63  64  65  66  67  68  69  70  71  72\n",
      "  73  74  75  76  77  78  79  80  81  82  83  84  85  86  87  88  89  90\n",
      "  91  92  93  94  95  96  97  98  99 100 101 102 103 104 105 106 107 108\n",
      " 109 110 111 112 113 114 115 116 117 118 119 120]\n"
     ]
    },
    {
     "data": {
      "text/plain": [
       "numpy.ndarray"
      ]
     },
     "execution_count": 3,
     "metadata": {},
     "output_type": "execute_result"
    }
   ],
   "source": [
    "P = parcels_data[:,0]\n",
    "P = np.array(P.astype(int))\n",
    "print(P)\n",
    "type(P)"
   ]
  },
  {
   "cell_type": "code",
   "execution_count": 4,
   "metadata": {},
   "outputs": [],
   "source": [
    "A = parcels_data[:,round(1, 5)]\n",
    "C = parcels_data[:,round(2, 8)]"
   ]
  },
  {
   "cell_type": "code",
   "execution_count": 5,
   "metadata": {},
   "outputs": [],
   "source": [
    "multidict_input = {}\n",
    "for p in P:\n",
    "    multidict_input[p] = [A[p-1], C[p-1]]\n",
    "#print(multidict_input)"
   ]
  },
  {
   "cell_type": "code",
   "execution_count": 6,
   "metadata": {},
   "outputs": [
    {
     "name": "stdout",
     "output_type": "stream",
     "text": [
      "       0   1\n",
      "0      2  51\n",
      "1      3  50\n",
      "2      3  55\n",
      "3      3  60\n",
      "4      4   5\n",
      "..   ...  ..\n",
      "255   98  96\n",
      "256   98  99\n",
      "257   99  97\n",
      "258   99  98\n",
      "259  100  90\n",
      "\n",
      "[260 rows x 2 columns]\n",
      "[(2, 51), (3, 50), (3, 55), (3, 60), (4, 5), (4, 6), (4, 48), (5, 4), (5, 54), (6, 4), (6, 47), (6, 56), (7, 57), (7, 58), (8, 60), (8, 66), (8, 68), (10, 13), (12, 63), (12, 73), (13, 10), (13, 16), (14, 17), (14, 19), (14, 21), (14, 22), (14, 24), (15, 17), (15, 18), (15, 23), (15, 75), (16, 13), (16, 20), (16, 76), (17, 14), (17, 15), (17, 19), (17, 23), (17, 64), (18, 15), (18, 73), (18, 75), (19, 14), (19, 17), (19, 22), (19, 23), (20, 16), (20, 76), (21, 14), (22, 14), (22, 19), (22, 23), (22, 24), (23, 15), (23, 17), (23, 19), (23, 22), (23, 26), (23, 27), (23, 75), (24, 14), (24, 22), (25, 77), (25, 78), (26, 23), (26, 27), (27, 23), (27, 26), (27, 28), (27, 32), (27, 75), (28, 27), (28, 31), (28, 32), (28, 33), (29, 31), (29, 76), (31, 28), (31, 29), (31, 33), (31, 35), (31, 37), (31, 76), (32, 27), (32, 28), (32, 33), (32, 38), (33, 28), (33, 31), (33, 32), (33, 35), (33, 38), (33, 82), (34, 91), (35, 31), (35, 33), (35, 37), (35, 82), (36, 37), (36, 76), (36, 78), (36, 79), (37, 31), (37, 35), (37, 36), (37, 76), (37, 79), (37, 82), (38, 32), (38, 33), (39, 80), (39, 83), (40, 79), (40, 84), (40, 86), (42, 88), (45, 47), (45, 49), (46, 47), (46, 48), (47, 6), (47, 45), (47, 46), (47, 48), (48, 4), (48, 46), (48, 47), (49, 45), (49, 51), (49, 56), (50, 3), (50, 55), (51, 2), (51, 49), (53, 54), (54, 5), (54, 53), (55, 3), (55, 50), (55, 60), (56, 6), (56, 49), (56, 63), (57, 7), (57, 58), (58, 7), (58, 57), (58, 59), (58, 64), (59, 58), (59, 64), (60, 3), (60, 8), (60, 55), (60, 65), (60, 66), (60, 68), (62, 65), (62, 67), (62, 72), (63, 12), (63, 56), (63, 64), (64, 17), (64, 58), (64, 59), (64, 63), (65, 60), (65, 62), (65, 67), (65, 68), (66, 8), (66, 60), (67, 62), (67, 65), (68, 8), (68, 60), (68, 65), (70, 71), (70, 72), (71, 70), (71, 96), (72, 62), (72, 70), (73, 12), (73, 18), (73, 75), (74, 91), (75, 15), (75, 18), (75, 23), (75, 27), (75, 73), (76, 16), (76, 20), (76, 29), (76, 31), (76, 36), (76, 37), (76, 77), (76, 78), (77, 25), (77, 76), (77, 78), (78, 25), (78, 36), (78, 76), (78, 77), (78, 79), (79, 36), (79, 37), (79, 40), (79, 78), (79, 81), (79, 82), (79, 84), (79, 86), (80, 39), (80, 83), (80, 98), (81, 79), (81, 84), (81, 86), (82, 33), (82, 35), (82, 37), (82, 79), (83, 39), (83, 80), (84, 40), (84, 79), (84, 81), (84, 86), (85, 87), (86, 40), (86, 79), (86, 81), (86, 84), (86, 88), (87, 85), (88, 42), (88, 86), (89, 90), (90, 89), (90, 100), (91, 34), (91, 74), (92, 93), (92, 94), (93, 92), (94, 92), (96, 71), (96, 98), (97, 99), (98, 80), (98, 96), (98, 99), (99, 97), (99, 98), (100, 90)]\n"
     ]
    },
    {
     "data": {
      "text/plain": [
       "list"
      ]
     },
     "execution_count": 6,
     "metadata": {},
     "output_type": "execute_result"
    }
   ],
   "source": [
    "adjacency_data = pd.read_csv(\"Adjacency.txt\", header = None)\n",
    "print(adjacency_data)\n",
    "subset = adjacency_data[[0,1]]\n",
    "adjacency = [tuple(x) for x in subset.values]\n",
    "print(adjacency)\n",
    "type(adjacency)"
   ]
  },
  {
   "cell_type": "code",
   "execution_count": 7,
   "metadata": {},
   "outputs": [
    {
     "name": "stdout",
     "output_type": "stream",
     "text": [
      "[1, 2, 3, 4, 5, 6, 7, 8, 9, 10, 11, 12, 13, 14, 15, 16, 17, 18, 19, 20, 21, 22, 23, 24, 25, 26, 27, 28, 29, 30, 31, 32, 33, 34, 35, 36, 37, 38, 39, 40, 41, 42, 43, 44, 45, 46, 47, 48, 49, 50, 51, 52, 53, 54, 55, 56, 57, 58, 59, 60, 61, 62, 63, 64, 65, 66, 67, 68, 69, 70, 71, 72, 73, 74, 75, 76, 77, 78, 79, 80, 81, 82, 83, 84, 85, 86, 87, 88, 89, 90, 91, 92, 93, 94, 95, 96, 97, 98, 99, 100, 101, 102, 103, 104, 105, 106, 107, 108, 109, 110, 111, 112, 113, 114, 115, 116, 117, 118, 119, 120]\n"
     ]
    }
   ],
   "source": [
    "# what gurobi py uses when formulating constraints/objective function\n",
    "parcels, areas, costs = gp.multidict(multidict_input)\n",
    "print(parcels)\n",
    "# this is where we would specify our budget\n",
    "budget = 1000000"
   ]
  },
  {
   "cell_type": "markdown",
   "metadata": {},
   "source": [
    "Now that the data is in and the budget is specified, I can write out the model"
   ]
  },
  {
   "cell_type": "code",
   "execution_count": 8,
   "metadata": {},
   "outputs": [
    {
     "name": "stdout",
     "output_type": "stream",
     "text": [
      "Restricted license - for non-production use only - expires 2022-01-13\n"
     ]
    }
   ],
   "source": [
    "# create model object\n",
    "m = gp.Model('ParcelSelct')"
   ]
  },
  {
   "cell_type": "code",
   "execution_count": 9,
   "metadata": {},
   "outputs": [],
   "source": [
    "# create decision variables for each of the parcels and flow variables\n",
    "x = m.addVars(parcels, vtype = GRB.BINARY, name = \"parcel\")\n",
    "y = m.addVars(adjacency, vtype = GRB.BINARY, name = \"flow\")\n"
   ]
  },
  {
   "cell_type": "code",
   "execution_count": 10,
   "metadata": {},
   "outputs": [],
   "source": [
    "# create budget constraint\n",
    "budget = m.addConstr((x.prod(costs) <= budget), name = 'budget')\n",
    "\n",
    "# create core parcel constraint\n",
    "core = m.addConstr((x[23] == 1), name = 'corep')\n"
   ]
  },
  {
   "cell_type": "code",
   "execution_count": 12,
   "metadata": {},
   "outputs": [],
   "source": [
    "# Constraint 3 from paper\n",
    "for p in parcels:\n",
    "    A = [a[0] for a in adjacency  \n",
    "            if a[1]==p]\n",
    "    if not A:  \n",
    "        pass\n",
    "    else:\n",
    "        m.addConstr(sum(y[i,p] for i in A) <= len(A)*x[p], name = \"no_flow\" + str(p))"
   ]
  },
  {
   "cell_type": "code",
   "execution_count": 14,
   "metadata": {},
   "outputs": [],
   "source": [
    "# Constraint 4 from paper\n",
    "for p in parcels:\n",
    "    A = [a[1] for a in adjacency  #finds all parcels adjacent to parcel i\n",
    "            if a[0]==p]\n",
    "    if not A:\n",
    "        pass  #skips this constraint if there are no parcels adjacent to i\n",
    "    else:\n",
    "        m.addConstr(sum(y[p,j] for j in A) <= x[p], name = \"one_flow_to\" + str(p)) "
   ]
  },
  {
   "cell_type": "code",
   "execution_count": 15,
   "metadata": {},
   "outputs": [],
   "source": [
    "# Constraint 5 from paper\n",
    "connected = m.addConstr(y.sum()== x.sum() - 1, name = \"arcs_to_nodes\")"
   ]
  },
  {
   "cell_type": "code",
   "execution_count": 16,
   "metadata": {},
   "outputs": [],
   "source": [
    "z = m.addVars(adjacency, vtype = GRB.INTEGER, name = \"Z\") #tail length contribution variable\n",
    "w = m.addVars(parcels, vtype = GRB.INTEGER, name = \"W\") #tail length variable"
   ]
  },
  {
   "cell_type": "code",
   "execution_count": 17,
   "metadata": {},
   "outputs": [],
   "source": [
    "M = len(parcels) + 1 "
   ]
  },
  {
   "cell_type": "code",
   "execution_count": 18,
   "metadata": {},
   "outputs": [],
   "source": [
    "for p in parcels:\n",
    "    A = [a[1] for a in adjacency #finds all parcels adjacent to i\n",
    "            if a[0]==p]\n",
    "    if not A: #if there are no parcels adjacent to i, skips this constraint\n",
    "        pass\n",
    "    else:\n",
    "         for j in A:\n",
    "            if j != p: #for each j where j does not equal i, calculates tail contribution\n",
    "                m.addConstr(z[p,j] >= w[p] + 1 - M*(1 - y[p,j]), name = \"tail_length\" + str(p)+str(j))"
   ]
  },
  {
   "cell_type": "code",
   "execution_count": 19,
   "metadata": {},
   "outputs": [],
   "source": [
    "#tail length W\n",
    "for p in parcels:\n",
    "    A = [a[0] for a in adjacency #finds all parcels adjacent to j\n",
    "            if a[1] == p]\n",
    "    if not A:\n",
    "        pass #skips this constraint if there are no parcels adjacent to j\n",
    "    else:\n",
    "        m.addConstr(w[p] == z.sum('*',p), name = \"wtail\" + str(p)) #calculates w[j]"
   ]
  },
  {
   "cell_type": "code",
   "execution_count": 20,
   "metadata": {},
   "outputs": [],
   "source": [
    "# Create objective function\n",
    "\n",
    "m.setObjective(x.prod(areas), GRB.MAXIMIZE)"
   ]
  },
  {
   "cell_type": "code",
   "execution_count": 21,
   "metadata": {},
   "outputs": [],
   "source": [
    "# then we can write out the model to upload later\n",
    "m.write('ParcelSelect.lp') # this seems to be the basic model format, "
   ]
  },
  {
   "cell_type": "code",
   "execution_count": null,
   "metadata": {},
   "outputs": [],
   "source": []
  }
 ],
 "metadata": {
  "kernelspec": {
   "display_name": "Python 3",
   "language": "python",
   "name": "python3"
  },
  "language_info": {
   "codemirror_mode": {
    "name": "ipython",
    "version": 3
   },
   "file_extension": ".py",
   "mimetype": "text/x-python",
   "name": "python",
   "nbconvert_exporter": "python",
   "pygments_lexer": "ipython3",
   "version": "3.8.3"
  }
 },
 "nbformat": 4,
 "nbformat_minor": 4
}
