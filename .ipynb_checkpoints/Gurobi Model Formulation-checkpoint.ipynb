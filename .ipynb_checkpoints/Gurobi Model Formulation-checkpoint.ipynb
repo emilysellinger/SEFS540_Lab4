{
 "cells": [
  {
   "cell_type": "markdown",
   "metadata": {},
   "source": [
    " Read in the data and create objects to pass onto Gurobi constraints. Second column in parcel file is area and third column in parcel file is price"
   ]
  },
  {
   "cell_type": "code",
   "execution_count": 19,
   "metadata": {},
   "outputs": [],
   "source": [
    "import numpy as np\n",
    "import pandas as pd\n",
    "parcels_data = np.array(pd.read_csv(\"Parcels.txt\", header = None))"
   ]
  },
  {
   "cell_type": "code",
   "execution_count": 20,
   "metadata": {},
   "outputs": [],
   "source": [
    "import gurobipy as gp\n",
    "from gurobipy import GRB"
   ]
  },
  {
   "cell_type": "code",
   "execution_count": 21,
   "metadata": {},
   "outputs": [],
   "source": [
    "P = parcels_data[:,0]\n",
    "P = np.array(P.astype(int))"
   ]
  },
  {
   "cell_type": "code",
   "execution_count": 22,
   "metadata": {},
   "outputs": [],
   "source": [
    "A = parcels_data[:,round(1, 5)]\n",
    "C = parcels_data[:,round(2, 8)]"
   ]
  },
  {
   "cell_type": "code",
   "execution_count": 23,
   "metadata": {},
   "outputs": [],
   "source": [
    "multidict_input = {}\n",
    "for p in P:\n",
    "    multidict_input[p] = [A[p-1], C[p-1]]"
   ]
  },
  {
   "cell_type": "code",
   "execution_count": 24,
   "metadata": {},
   "outputs": [],
   "source": [
    "adjacency_data = pd.read_csv(\"Adjacency.txt\", header = None)\n",
    "\n",
    "subset = adjacency_data[[0,1]]\n",
    "adjacency = [tuple(x) for x in subset.values]"
   ]
  },
  {
   "cell_type": "code",
   "execution_count": 25,
   "metadata": {},
   "outputs": [],
   "source": [
    "# what gurobi py uses when formulating constraints/objective function\n",
    "parcels, areas, costs = gp.multidict(multidict_input)\n",
    "\n",
    "# this is where we would specify our budget\n",
    "budget = 1000000\n",
    "\n",
    "# also add M variable\n",
    "M = len(parcels) + 1 \n"
   ]
  },
  {
   "cell_type": "markdown",
   "metadata": {},
   "source": [
    "Now that the data is in and the budget is specified, I can write out the model"
   ]
  },
  {
   "cell_type": "code",
   "execution_count": 26,
   "metadata": {},
   "outputs": [],
   "source": [
    "# create model object\n",
    "m = gp.Model('ParcelSelct')\n"
   ]
  },
  {
   "cell_type": "code",
   "execution_count": 27,
   "metadata": {},
   "outputs": [
    {
     "name": "stdout",
     "output_type": "stream",
     "text": [
      "Changed value of parameter timeLimit to 600.0\n",
      "   Prev: inf  Min: 0.0  Max: inf  Default: inf\n"
     ]
    }
   ],
   "source": [
    "m.Params.timeLimit = 600.0"
   ]
  },
  {
   "cell_type": "code",
   "execution_count": 28,
   "metadata": {},
   "outputs": [
    {
     "name": "stdout",
     "output_type": "stream",
     "text": [
      "Changed value of parameter LogFile to ParcelSelect_log\n",
      "   Prev:   Default: \n"
     ]
    }
   ],
   "source": [
    "m.Params.LogFile = 'ParcelSelect_log'"
   ]
  },
  {
   "cell_type": "code",
   "execution_count": 29,
   "metadata": {},
   "outputs": [],
   "source": [
    "# create decision variables for each of the parcels and flow variables\n",
    "x = m.addVars(parcels, vtype = GRB.BINARY, name = \"parcel\")\n",
    "y = m.addVars(adjacency, vtype = GRB.BINARY, name = \"flow\")\n"
   ]
  },
  {
   "cell_type": "code",
   "execution_count": 30,
   "metadata": {},
   "outputs": [],
   "source": [
    "# create budget constraint\n",
    "budget = m.addConstr((x.prod(costs) <= budget), name = 'budget')\n",
    "\n",
    "# create core parcel constraint\n",
    "core = m.addConstr((x[23] == 1), name = 'core_p')\n"
   ]
  },
  {
   "cell_type": "code",
   "execution_count": 31,
   "metadata": {},
   "outputs": [],
   "source": [
    "# Constraint 3 from paper\n",
    "for p in parcels:\n",
    "    A = [a[0] for a in adjacency  \n",
    "            if a[1]==p]\n",
    "    if not A:  \n",
    "        pass\n",
    "    else:\n",
    "        m.addConstr(sum(y[i,p] for i in A) <= len(A)*x[p], name = \"no_flow\" + str(p))"
   ]
  },
  {
   "cell_type": "code",
   "execution_count": 32,
   "metadata": {},
   "outputs": [],
   "source": [
    "# Constraint 4 from paper\n",
    "for p in parcels:\n",
    "    A = [a[1] for a in adjacency\n",
    "            if a[0]==p]\n",
    "    if not A:\n",
    "        pass\n",
    "    else:\n",
    "        m.addConstr(sum(y[p,j] for j in A) <= x[p], name = \"one_flow_to\" + str(p)) "
   ]
  },
  {
   "cell_type": "code",
   "execution_count": 33,
   "metadata": {},
   "outputs": [],
   "source": [
    "# Constraint 5 from paper\n",
    "connected = m.addConstr(y.sum()== x.sum() - 1, name = \"arcs_to_nodes\")"
   ]
  },
  {
   "cell_type": "code",
   "execution_count": 34,
   "metadata": {},
   "outputs": [],
   "source": [
    "# create tail length contribution variables (based on # of parcels)\n",
    "z = m.addVars(adjacency, vtype = GRB.INTEGER, name = \"Z\")\n",
    "\n",
    "# Create tail length variables (based on # of parcels)\n",
    "w = m.addVars(parcels, vtype = GRB.INTEGER, name = \"W\")"
   ]
  },
  {
   "cell_type": "code",
   "execution_count": 35,
   "metadata": {},
   "outputs": [],
   "source": [
    "# Constraint 6 from paper\n",
    "for p in parcels:\n",
    "    A = [a[1] for a in adjacency \n",
    "            if a[0]==p]\n",
    "    if not A: \n",
    "        pass\n",
    "    else:\n",
    "         for j in A:\n",
    "            if j != p: \n",
    "                m.addConstr(z[p,j] >= w[p] + 1 - M*(1 - y[p,j]), name = \"tail_length\" + str(p)+str(j))"
   ]
  },
  {
   "cell_type": "code",
   "execution_count": 36,
   "metadata": {},
   "outputs": [],
   "source": [
    "# Constraint 7 from paper\n",
    "for p in parcels:\n",
    "    A = [a[0] for a in adjacency \n",
    "            if a[1] == p]\n",
    "    if not A:\n",
    "        pass \n",
    "    else:\n",
    "        m.addConstr(w[p] == z.sum('*',p), name = \"wtail\" + str(p)) "
   ]
  },
  {
   "cell_type": "code",
   "execution_count": 37,
   "metadata": {},
   "outputs": [],
   "source": [
    "# Create objective function\n",
    "\n",
    "m.setObjective(x.prod(areas), GRB.MAXIMIZE)"
   ]
  },
  {
   "cell_type": "code",
   "execution_count": 38,
   "metadata": {},
   "outputs": [],
   "source": [
    "# then we can write out the model (extra code required to optimize model and print out output)\n",
    "m.write('ParcelSelect.lp') "
   ]
  },
  {
   "cell_type": "code",
   "execution_count": 39,
   "metadata": {},
   "outputs": [
    {
     "name": "stdout",
     "output_type": "stream",
     "text": [
      "Gurobi Optimizer version 9.1.2 build v9.1.2rc0 (linux64)\n",
      "Thread count: 4 physical cores, 8 logical processors, using up to 8 threads\n",
      "Optimize a model with 530 rows, 760 columns and 2327 nonzeros\n",
      "Model fingerprint: 0x2171561d\n",
      "Variable types: 0 continuous, 760 integer (380 binary)\n",
      "Coefficient statistics:\n",
      "  Matrix range     [1e+00, 9e+05]\n",
      "  Objective range  [1e+00, 6e+01]\n",
      "  Bounds range     [1e+00, 1e+00]\n",
      "  RHS range        [1e+00, 1e+06]\n",
      "Found heuristic solution: objective 8.6480000\n",
      "Presolve removed 50 rows and 82 columns\n",
      "Presolve time: 0.02s\n",
      "Presolved: 480 rows, 678 columns, 2236 nonzeros\n",
      "Variable types: 0 continuous, 678 integer (375 binary)\n",
      "\n",
      "Root relaxation: objective 5.065147e+02, 347 iterations, 0.01 seconds\n",
      "\n",
      "    Nodes    |    Current Node    |     Objective Bounds      |     Work\n",
      " Expl Unexpl |  Obj  Depth IntInf | Incumbent    BestBd   Gap | It/Node Time\n",
      "\n",
      "     0     0  506.51467    0   31    8.64800  506.51467  5757%     -    0s\n",
      "     0     0  468.15879    0   49    8.64800  468.15879  5313%     -    0s\n",
      "H    0     0                      51.5700000  468.15879   808%     -    0s\n",
      "     0     0  467.28024    0   52   51.57000  467.28024   806%     -    0s\n",
      "     0     0  465.93776    0   50   51.57000  465.93776   804%     -    0s\n",
      "     0     0  431.54162    0   78   51.57000  431.54162   737%     -    0s\n",
      "     0     0  430.08966    0   72   51.57000  430.08966   734%     -    0s\n",
      "     0     0  430.08966    0   75   51.57000  430.08966   734%     -    0s\n",
      "     0     0  422.52615    0   73   51.57000  422.52615   719%     -    0s\n",
      "H    0     0                      54.5750000  422.52615   674%     -    0s\n",
      "     0     0  422.49580    0   85   54.57500  422.49580   674%     -    0s\n",
      "     0     0  413.41000    0   94   54.57500  413.41000   658%     -    0s\n",
      "     0     0  412.86857    0   82   54.57500  412.86857   657%     -    0s\n",
      "     0     0  409.43229    0   80   54.57500  409.43229   650%     -    0s\n",
      "     0     0  409.43229    0   77   54.57500  409.43229   650%     -    0s\n",
      "H    0     0                      57.1020000  409.43229   617%     -    0s\n",
      "     0     0  407.67422    0   79   57.10200  407.67422   614%     -    0s\n",
      "     0     0  407.67422    0   88   57.10200  407.67422   614%     -    0s\n",
      "     0     0  407.55827    0   96   57.10200  407.55827   614%     -    0s\n",
      "     0     0  407.55827    0   93   57.10200  407.55827   614%     -    0s\n",
      "     0     2  407.55827    0   93   57.10200  407.55827   614%     -    0s\n",
      "H  116   108                      60.4000000  400.14887   562%   9.9    0s\n",
      "H  122   108                      69.4170000  400.14887   476%   9.7    0s\n",
      "H  231   221                      93.5440000  400.14887   328%   9.5    0s\n",
      "H  350   306                     110.5270000  399.82912   262%   8.7    0s\n",
      "H  368   306                     115.3590000  399.82912   247%   8.6    0s\n",
      "H  994   702                     118.3640000  397.22080   236%   9.5    0s\n",
      "H 1350   888                     118.6390000  371.27593   213%  12.0    1s\n",
      "H 1490   948                     121.1660000  371.27593   206%  11.9    1s\n",
      "H 1514   901                     121.9370000  371.27593   204%  12.0    1s\n",
      "H 3320  1344                     140.6870000  367.38155   161%  12.5    2s\n",
      "H 6726  3532                     164.7130000  365.12300   122%  11.8    3s\n",
      "H 7006  3616                     223.2410000  365.12300  63.6%  11.7    3s\n",
      "H 7894  4126                     239.7560000  364.51304  52.0%  11.6    3s\n",
      "* 8956  4463              59     265.3290000  364.12689  37.2%  11.5    3s\n",
      "*11253  5937              46     266.7140000  363.40140  36.3%  11.6    4s\n",
      " 15348  8629 infeasible   42       266.71400  362.43832  35.9%  11.6    5s\n",
      "H16728  8827                     269.2410000  362.35104  34.6%  11.7    5s\n",
      "H17277  9161                     270.3660000  362.26087  34.0%  11.7    5s\n",
      "H18564  9467                     280.0490000  362.02779  29.3%  11.8    5s\n",
      "*19450  9949              68     280.7200000  361.95564  28.9%  11.9    5s\n",
      "*20682 10517              62     283.7840000  361.75019  27.5%  11.9    6s\n",
      "*24878 12749              65     283.8400000  361.00592  27.2%  12.0    6s\n",
      "*24881 12491              66     286.5180000  361.00592  26.0%  12.0    6s\n",
      "*24882 12162              65     289.8530000  361.00592  24.5%  12.0    6s\n",
      " 32473 14962  317.70046   56   46  289.85300  360.25804  24.3%  12.7   10s\n",
      " 44642 15585  343.71097   41   81  289.85300  350.61422  21.0%  14.1   15s\n",
      " 48192 16286  292.06726   71   44  289.85300  350.61422  21.0%  14.6   20s\n",
      " 64720 17658  301.19472   55   71  289.85300  344.51497  18.9%  16.2   25s\n",
      "H71773 16830                     290.6260000  341.22767  17.4%  16.6   27s\n",
      " 79527 17338  332.01365   48   88  290.62600  338.49934  16.5%  17.0   30s\n",
      " 91645 17576  305.30394   56   65  290.62600  335.98592  15.6%  17.7   35s\n",
      " 102451 20305  309.63553   53   82  290.62600  333.57133  14.8%  18.4   40s\n",
      " 112674 22517  320.86502   55   77  290.62600  331.71023  14.1%  19.0   45s\n",
      " 122420 24357  297.96208   56   76  290.62600  329.98901  13.5%  19.5   50s\n",
      " 131476 26156  304.35945   58   75  290.62600  328.44533  13.0%  19.9   55s\n",
      " 141091 27952  317.48551   51   53  290.62600  327.06145  12.5%  20.3   60s\n",
      " 148322 29587  323.23594   56   83  290.62600  326.13097  12.2%  20.5   65s\n",
      " 156301 31071  305.21889   60   65  290.62600  325.25922  11.9%  20.7   70s\n",
      " 165025 32789  296.99791   60   14  290.62600  324.33328  11.6%  21.0   75s\n",
      " 173453 34448     cutoff   63       290.62600  323.52032  11.3%  21.2   80s\n",
      " 181091 35669  320.68338   59   54  290.62600  322.73353  11.0%  21.4   85s\n",
      " 188531 36778  300.50839   66  100  290.62600  322.04421  10.8%  21.5   90s\n",
      " 195339 38153 infeasible   49       290.62600  321.46685  10.6%  21.6   95s\n",
      " 202899 39334  294.95355   65   53  290.62600  320.88809  10.4%  21.7  100s\n",
      " 210097 40355  292.93775   65   52  290.62600  320.33253  10.2%  21.8  105s\n",
      " 217018 41423  295.58525   71   38  290.62600  319.93300  10.1%  21.9  110s\n",
      " 223764 42137  301.22788   54   42  290.62600  319.52050  9.94%  21.9  115s\n",
      " 229171 42852  307.42745   58   80  290.62600  319.20440  9.83%  22.0  120s\n",
      " 236588 44249  300.36775   68   27  290.62600  318.82476  9.70%  21.9  125s\n",
      " 243191 45167     cutoff   46       290.62600  318.36976  9.55%  22.0  130s\n",
      " 248712 46095 infeasible   61       290.62600  318.07667  9.45%  22.0  135s\n",
      " 254593 47091  291.41233   52   32  290.62600  317.74900  9.33%  22.0  140s\n",
      " 262465 48847     cutoff   67       290.62600  317.47040  9.24%  21.9  145s\n",
      " 269374 50139  313.05994   61   41  290.62600  317.18667  9.14%  21.9  150s\n",
      " 275457 50952 infeasible   64       290.62600  316.91748  9.05%  21.9  155s\n",
      " 281539 52045  310.62420   60   48  290.62600  316.65766  8.96%  21.9  160s\n",
      " 286594 52702  292.03993   64   91  290.62600  316.44575  8.88%  21.9  165s\n",
      " 291669 53309  292.26842   64   47  290.62600  316.24025  8.81%  21.8  170s\n",
      " 297473 53910  294.72395   59   77  290.62600  315.96787  8.72%  21.8  175s\n",
      " 303235 54532  298.87500   64   44  290.62600  315.68831  8.62%  21.8  180s\n",
      " 309556 55214 infeasible   55       290.62600  315.41150  8.53%  21.8  185s\n",
      "H314156 55619                     290.6260160  315.23850  8.47%  21.8  190s\n",
      " 319428 56264  306.44616   70   69  290.62602  314.99400  8.38%  21.8  195s\n",
      " 325024 56803     cutoff   63       290.62602  314.76188  8.30%  21.8  200s\n",
      " 331336 57452  312.56107   55   64  290.62602  314.49333  8.21%  21.7  205s\n",
      " 337658 58164 infeasible   64       290.62602  314.24383  8.13%  21.7  210s\n",
      " 343706 58789  312.92857   60   84  290.62602  313.99870  8.04%  21.7  215s\n",
      " 349924 59628 infeasible   60       290.62602  313.78091  7.97%  21.7  220s\n",
      " 355120 60294 infeasible   72       290.62602  313.61045  7.91%  21.6  225s\n",
      " 360308 60822  311.52900   67   48  290.62602  313.40631  7.84%  21.6  230s\n",
      " 364662 61191  298.25950   58   61  290.62602  313.24861  7.78%  21.6  235s\n",
      " 371107 61751  306.00686   64   78  290.62602  313.03673  7.71%  21.5  240s\n",
      " 376963 62575     cutoff   74       290.62602  312.85553  7.65%  21.5  245s\n",
      " 383674 63231  296.81941   56   73  290.62602  312.64939  7.58%  21.5  250s\n",
      " 390773 64413  292.15205   72   36  290.62602  312.44855  7.51%  21.4  255s\n",
      " 397626 65748  301.75250   74   42  290.62602  312.27612  7.45%  21.3  260s\n"
     ]
    },
    {
     "name": "stdout",
     "output_type": "stream",
     "text": [
      " 405906 66795  307.80683   61   38  290.62602  311.99949  7.35%  21.3  265s\n",
      " 413228 67866  302.33473   61   65  290.62602  311.76785  7.27%  21.2  270s\n",
      " 420589 69059  302.73804   58   61  290.62602  311.55115  7.20%  21.1  275s\n",
      " 427599 70151  311.34007   61   76  290.62602  311.36504  7.14%  21.1  280s\n",
      " 436168 71713     cutoff   65       290.62602  311.13157  7.06%  21.0  285s\n",
      " 443099 72804  301.08883   73   67  290.62602  310.93655  6.99%  20.9  290s\n",
      " 448722 73657  296.30338   48   85  290.62602  310.76455  6.93%  20.9  295s\n",
      " 454248 74610  309.51258   68   81  290.62602  310.63462  6.88%  20.8  300s\n",
      " 460034 75668  308.96810   62   76  290.62602  310.48499  6.83%  20.8  305s\n",
      " 466719 76567     cutoff   65       290.62602  310.30940  6.77%  20.7  310s\n",
      " 473241 77393     cutoff   55       290.62602  310.13750  6.71%  20.7  315s\n",
      " 478317 78162  302.66443   86   55  290.62602  310.00618  6.67%  20.6  320s\n",
      " 484918 79077  298.62508   57   61  290.62602  309.85920  6.62%  20.6  325s\n",
      " 490396 79779  305.05461   66   35  290.62602  309.70933  6.57%  20.5  330s\n",
      " 497100 80635  309.50160   59   55  290.62602  309.55282  6.51%  20.5  335s\n",
      " 503177 81286 infeasible   61       290.62602  309.40533  6.46%  20.5  340s\n",
      " 509808 81948 infeasible   71       290.62602  309.24500  6.41%  20.4  345s\n",
      " 515455 82396  308.00538   61   74  290.62602  309.07550  6.35%  20.4  350s\n",
      " 522072 83159  296.44978   78   69  290.62602  308.91943  6.29%  20.3  355s\n",
      " 528032 83711  305.27217   56   26  290.62602  308.75084  6.24%  20.3  360s\n",
      " 536452 84588  298.78074   60   90  290.62602  308.54643  6.17%  20.3  365s\n",
      " 544918 85464  291.17578   71   65  290.62602  308.33133  6.09%  20.2  370s\n",
      " 552438 86381  307.75925   60   47  290.62602  308.14193  6.03%  20.2  375s\n",
      " 559232 87296  293.91923   77   54  290.62602  307.99226  5.98%  20.1  380s\n",
      " 566404 87790 infeasible   72       290.62602  307.83130  5.92%  20.1  385s\n",
      " 572920 88133  295.80089   56   59  290.62602  307.66329  5.86%  20.0  390s\n",
      " 581023 88718  299.33667   62   41  290.62602  307.48453  5.80%  20.0  395s\n",
      " 589035 89374  299.95198   82   49  290.62602  307.30091  5.74%  19.9  400s\n",
      " 594926 89995  303.36550   77   45  290.62602  307.16603  5.69%  19.9  405s\n",
      " 601487 90580  298.21864   77   54  290.62602  306.99417  5.63%  19.8  410s\n",
      " 610587 90844 infeasible   87       290.62602  306.78934  5.56%  19.8  415s\n",
      " 619761 91556  300.17021   63   45  290.62602  306.59161  5.49%  19.7  420s\n",
      " 627509 92157  302.24236   66   72  290.62602  306.43343  5.44%  19.7  425s\n",
      " 635172 92708 infeasible   71       290.62602  306.28334  5.39%  19.6  430s\n",
      " 643649 93368  305.95155   56  120  290.62602  306.11024  5.33%  19.6  435s\n",
      " 652940 93911  297.21450   64   56  290.62602  305.92671  5.26%  19.5  440s\n",
      " 661253 94384  300.07327   66   30  290.62602  305.76116  5.21%  19.5  445s\n",
      " 670341 94985  295.75792   60   52  290.62602  305.58413  5.15%  19.4  450s\n",
      " 678706 95504     cutoff   77       290.62602  305.44013  5.10%  19.4  455s\n",
      " 686782 95858  301.87900   66   28  290.62602  305.27917  5.04%  19.3  460s\n",
      " 693671 96052  303.19175   66   63  290.62602  305.13753  4.99%  19.3  465s\n",
      " 702486 96741 infeasible   79       290.62602  304.97349  4.94%  19.2  470s\n",
      " 711711 97447  301.98514   57   40  290.62602  304.82103  4.88%  19.2  475s\n",
      " 719451 97780     cutoff   63       290.62602  304.69171  4.84%  19.1  480s\n",
      " 728807 98233     cutoff   78       290.62602  304.50873  4.78%  19.1  485s\n",
      " 736014 98593     cutoff   79       290.62602  304.37950  4.73%  19.0  490s\n",
      " 744601 99046     cutoff   57       290.62602  304.22422  4.68%  19.0  495s\n",
      " 753342 99422  292.29598   65   61  290.62602  304.06740  4.62%  18.9  500s\n",
      "H760994 99598                     290.6260302  303.92680  4.58%  18.9  504s\n",
      " 761744 99583  291.34937   66   22  290.62603  303.90969  4.57%  18.9  505s\n",
      " 768929 99893 infeasible   74       290.62603  303.78227  4.53%  18.8  510s\n",
      " 778028 100268 infeasible   77       290.62603  303.62543  4.47%  18.8  515s\n",
      " 787254 100599  299.19771   59   34  290.62603  303.46299  4.42%  18.7  520s\n",
      " 795023 100640  299.22340   82   47  290.62603  303.32612  4.37%  18.7  525s\n",
      " 803753 101005  292.38439   75   52  290.62603  303.15653  4.31%  18.6  530s\n",
      " 813626 101242  296.16038   79   47  290.62603  302.97580  4.25%  18.6  535s\n",
      " 822370 101187  302.35346   71   71  290.62603  302.82024  4.20%  18.5  540s\n",
      " 830156 101397  301.05977   89   36  290.62603  302.67727  4.15%  18.5  545s\n",
      " 839143 101671  292.23289   79   40  290.62603  302.54396  4.10%  18.4  550s\n",
      " 847944 101771  299.59555   73   81  290.62603  302.40226  4.05%  18.4  555s\n",
      " 857198 101927  297.98875   65   64  290.62603  302.25278  4.00%  18.3  560s\n",
      " 864502 101791     cutoff   58       290.62603  302.12095  3.96%  18.3  565s\n",
      " 873398 101519  292.73400   75   50  290.62603  301.96517  3.90%  18.3  570s\n",
      " 881705 101152  295.07884   73   35  290.62603  301.81066  3.85%  18.2  575s\n",
      " 890824 100955  292.98696   82   35  290.62603  301.65014  3.79%  18.2  580s\n",
      " 901257 100593     cutoff   77       290.62603  301.46111  3.73%  18.1  585s\n",
      " 909011 100002  298.23177   61   68  290.62603  301.30941  3.68%  18.1  590s\n",
      " 918004 99374 infeasible   69       290.62603  301.15786  3.62%  18.0  595s\n",
      " 927091 98555  293.82640   69   23  290.62603  300.98468  3.56%  18.0  600s\n",
      "\n",
      "Cutting planes:\n",
      "  Gomory: 60\n",
      "  Cover: 1067\n",
      "  Implied bound: 51\n",
      "  MIR: 57\n",
      "  StrongCG: 1\n",
      "  Flow cover: 244\n",
      "  Inf proof: 18\n",
      "  Zero half: 33\n",
      "  Mod-K: 2\n",
      "  RLT: 17\n",
      "  Relax-and-lift: 1\n",
      "\n",
      "Explored 927884 nodes (16705443 simplex iterations) in 600.03 seconds\n",
      "Thread count was 8 (of 8 available processors)\n",
      "\n",
      "Solution count 10: 290.626 290.626 290.626 ... 270.366\n",
      "\n",
      "Time limit reached\n",
      "Best objective 2.906260000000e+02, best bound 3.009712503756e+02, gap 3.5596%\n"
     ]
    }
   ],
   "source": [
    "m.optimize()"
   ]
  },
  {
   "cell_type": "code",
   "execution_count": null,
   "metadata": {},
   "outputs": [],
   "source": []
  }
 ],
 "metadata": {
  "kernelspec": {
   "display_name": "Python 3",
   "language": "python",
   "name": "python3"
  },
  "language_info": {
   "codemirror_mode": {
    "name": "ipython",
    "version": 3
   },
   "file_extension": ".py",
   "mimetype": "text/x-python",
   "name": "python",
   "nbconvert_exporter": "python",
   "pygments_lexer": "ipython3",
   "version": "3.8.3"
  }
 },
 "nbformat": 4,
 "nbformat_minor": 4
}
