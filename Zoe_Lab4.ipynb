{
 "cells": [
  {
   "cell_type": "code",
   "execution_count": 1,
   "metadata": {},
   "outputs": [],
   "source": [
    "import numpy as np\n",
    "import pandas as pd"
   ]
  },
  {
   "cell_type": "code",
   "execution_count": 2,
   "metadata": {},
   "outputs": [],
   "source": [
    "import csv"
   ]
  },
  {
   "cell_type": "code",
   "execution_count": 3,
   "metadata": {},
   "outputs": [],
   "source": [
    "import gurobipy as gp\n",
    "from gurobipy import GRB"
   ]
  },
  {
   "cell_type": "code",
   "execution_count": 4,
   "metadata": {},
   "outputs": [
    {
     "data": {
      "text/plain": [
       "{1: [37.519, 337671.0],\n",
       " 2: [6.62, 19860.0],\n",
       " 3: [24.126, 48252.0],\n",
       " 4: [5.379, 80685.0],\n",
       " 5: [12.252, 49008.0],\n",
       " 6: [4.839, 14517.0],\n",
       " 7: [30.92, 185520.0],\n",
       " 8: [7.555, 30220.0],\n",
       " 9: [2.043, 8172.0],\n",
       " 10: [32.031, 0.0],\n",
       " 11: [1.359, 5436.0],\n",
       " 12: [12.181, 182715.0],\n",
       " 13: [25.38, 152280.0],\n",
       " 14: [37.921, 37921.0],\n",
       " 15: [7.672, 107408.0],\n",
       " 16: [34.06, 204360.0],\n",
       " 17: [12.022, 180330.0],\n",
       " 18: [10.932, 163980.0],\n",
       " 19: [5.001, 25005.0],\n",
       " 20: [30.481, 213367.0],\n",
       " 21: [9.311, 46555.0],\n",
       " 22: [3.005, 15025.0],\n",
       " 23: [8.648, 43240.0],\n",
       " 24: [3.298, 16490.0],\n",
       " 25: [20.731, 849971.0],\n",
       " 26: [2.527, 12635.0],\n",
       " 27: [5.738, 40166.0],\n",
       " 28: [3.198, 47970.0],\n",
       " 29: [6.45, 19350.0],\n",
       " 30: [7.208, 28832.0],\n",
       " 31: [26.188, 104752.0],\n",
       " 32: [14.007, 98049.0],\n",
       " 33: [11.412, 22824.0],\n",
       " 34: [18.264, 127848.0],\n",
       " 35: [10.363, 155445.0],\n",
       " 36: [9.684, 48420.0],\n",
       " 37: [18.946, 113676.0],\n",
       " 38: [13.08, 26160.0],\n",
       " 39: [1.845, 11070.0],\n",
       " 40: [1.74, 13920.0],\n",
       " 41: [1.689, 25335.0],\n",
       " 42: [6.633, 19899.0],\n",
       " 43: [59.836, 837704.0],\n",
       " 44: [42.97, 128910.0],\n",
       " 45: [21.631, 497513.0],\n",
       " 46: [29.62, 118480.0],\n",
       " 47: [30.276, 90828.0],\n",
       " 48: [14.401, 72005.0],\n",
       " 49: [42.272, 253632.0],\n",
       " 50: [58.92, 235680.0],\n",
       " 51: [9.061, 45305.0],\n",
       " 52: [18.086, 72344.0],\n",
       " 53: [18.761, 112566.0],\n",
       " 54: [4.151, 20755.0],\n",
       " 55: [16.556, 66224.0],\n",
       " 56: [33.789, 202734.0],\n",
       " 57: [6.967, 62703.0],\n",
       " 58: [17.77, 17770.0],\n",
       " 59: [4.945, 79120.0],\n",
       " 60: [17.988, 71952.0],\n",
       " 61: [7.124, 14248.0],\n",
       " 62: [59.428, 415996.0],\n",
       " 63: [15.135, 242160.0],\n",
       " 64: [24.127, 361905.0],\n",
       " 65: [16.251, 65004.0],\n",
       " 66: [8.309, 33236.0],\n",
       " 67: [5.004, 20016.0],\n",
       " 68: [12.759, 51036.0],\n",
       " 69: [2.953, 14765.0],\n",
       " 70: [9.608, 48040.0],\n",
       " 71: [6.601, 99015.0],\n",
       " 72: [13.236, 66180.0],\n",
       " 73: [6.574, 98610.0],\n",
       " 74: [30.96, 154800.0],\n",
       " 75: [26.996, 404940.0],\n",
       " 76: [39.773, 596595.0],\n",
       " 77: [8.892, 26676.0],\n",
       " 78: [30.221, 151105.0],\n",
       " 79: [52.556, 210224.0],\n",
       " 80: [19.217, 288255.0],\n",
       " 81: [28.321, 84963.0],\n",
       " 82: [24.191, 411247.0],\n",
       " 83: [52.908, 52908.0],\n",
       " 84: [8.3, 124500.0],\n",
       " 85: [18.451, 276765.0],\n",
       " 86: [31.527, 31527.0],\n",
       " 87: [20.019, 60057.0],\n",
       " 88: [12.712, 63560.0],\n",
       " 89: [12.263, 36789.0],\n",
       " 90: [25.271, 25271.0],\n",
       " 91: [28.837, 57674.0],\n",
       " 92: [29.834, 59668.0],\n",
       " 93: [16.684, 116788.0],\n",
       " 94: [31.679, 221753.0],\n",
       " 95: [7.387, 96031.0],\n",
       " 96: [47.906, 47906.0],\n",
       " 97: [22.265, 333975.0],\n",
       " 98: [27.696, 83088.0],\n",
       " 99: [13.41, 53640.0],\n",
       " 100: [12.917, 38751.0],\n",
       " 101: [2.274, 6822.0],\n",
       " 102: [22.859, 22859.0],\n",
       " 103: [11.8, 177000.0],\n",
       " 104: [23.171, 46342.0],\n",
       " 105: [19.059, 266826.0],\n",
       " 106: [23.821, 119105.0],\n",
       " 107: [56.021, 896336.0],\n",
       " 108: [36.747, 257229.0],\n",
       " 109: [14.906, 44718.0],\n",
       " 110: [19.224, 19224.0],\n",
       " 111: [25.747, 25747.0],\n",
       " 112: [26.763, 26763.0],\n",
       " 113: [22.905, 68715.0],\n",
       " 114: [32.037, 416481.0],\n",
       " 115: [20.321, 40642.0],\n",
       " 116: [11.12, 100080.0],\n",
       " 117: [18.73, 74920.0],\n",
       " 118: [14.141, 70705.0],\n",
       " 119: [6.866, 20598.0],\n",
       " 120: [18.185, 309145.0]}"
      ]
     },
     "execution_count": 4,
     "metadata": {},
     "output_type": "execute_result"
    }
   ],
   "source": [
    "#makes a dictionary for parcels \n",
    "parcels = {}\n",
    "with open ('Parcels.txt', mode = 'r') as csv_file:\n",
    "    for line in csv_file:\n",
    "        line.rstrip('\\n')\n",
    "        (key,val, val2) = line.split(',')\n",
    "        parcels[int(key)] = [float(val), float(val2)]\n",
    "parcels\n",
    "#type(parcels)"
   ]
  },
  {
   "cell_type": "code",
   "execution_count": 5,
   "metadata": {},
   "outputs": [],
   "source": [
    "pars, areas, costs = gp.multidict(parcels)"
   ]
  },
  {
   "cell_type": "code",
   "execution_count": 6,
   "metadata": {},
   "outputs": [],
   "source": [
    "budg = 1000000"
   ]
  },
  {
   "cell_type": "code",
   "execution_count": 7,
   "metadata": {},
   "outputs": [],
   "source": [
    "#makes list of tuples for adjacency--can't be dictionary because not unique keys\n",
    "adjacents = []\n",
    "with open ('Adjacency.txt', mode = 'r') as csv_file:\n",
    "    adjacents = [tuple(line) for line in csv.reader(csv_file)]\n",
    "for idx, (x,y) in enumerate(adjacents): #converting to integers\n",
    "    adjacents[idx] = (int(x), int(y))\n",
    "#adjacents\n",
    "#type(adjacents)"
   ]
  },
  {
   "cell_type": "code",
   "execution_count": 8,
   "metadata": {},
   "outputs": [
    {
     "name": "stdout",
     "output_type": "stream",
     "text": [
      "Academic license - for non-commercial use only - expires 2021-06-21\n",
      "Using license file /Users/zrand/gurobi.lic\n"
     ]
    }
   ],
   "source": [
    "m = gp.Model('ParcelModel')"
   ]
  },
  {
   "cell_type": "code",
   "execution_count": 9,
   "metadata": {},
   "outputs": [],
   "source": [
    "x = m.addVars(pars, obj = areas, vtype = GRB.BINARY, name = \"parcel\")"
   ]
  },
  {
   "cell_type": "code",
   "execution_count": 10,
   "metadata": {},
   "outputs": [],
   "source": [
    "y = m.addVars(adjacents, vtype = GRB.BINARY, name = \"flow\")"
   ]
  },
  {
   "cell_type": "code",
   "execution_count": 11,
   "metadata": {},
   "outputs": [],
   "source": [
    "B = m.addConstr(sum(costs[i]*x[i]for i in pars) <= budg, name = \"budget\")"
   ]
  },
  {
   "cell_type": "code",
   "execution_count": 12,
   "metadata": {},
   "outputs": [],
   "source": [
    "core = m.addConstr(x[23] == 1, name = \"core\") #parcel 23 must be included in the reserve"
   ]
  },
  {
   "cell_type": "code",
   "execution_count": 13,
   "metadata": {},
   "outputs": [],
   "source": [
    "for j in parcels:\n",
    "    A = [item[0] for item in adjacents\n",
    "            if item[1]==j]\n",
    "    m.addConstr(sum(y[i,j] for i in A) <= len(A)*x[j], name = str(\"no_flow\"+j)"
   ]
  },
  {
   "cell_type": "code",
   "execution_count": 14,
   "metadata": {},
   "outputs": [],
   "source": [
    "for i in parcels:\n",
    "    A = [item[1] for item in adjacents\n",
    "            if item[0]==i]\n",
    "    m.addConstr(sum(y[i,j] for j in A) <= x[i], name = str(\"one_flow\" + i)"
   ]
  },
  {
   "cell_type": "code",
   "execution_count": 15,
   "metadata": {},
   "outputs": [
    {
     "ename": "SyntaxError",
     "evalue": "Generator expression must be parenthesized (<ipython-input-15-d30f8c634af9>, line 2)",
     "output_type": "error",
     "traceback": [
      "\u001b[0;36m  File \u001b[0;32m\"<ipython-input-15-d30f8c634af9>\"\u001b[0;36m, line \u001b[0;32m2\u001b[0m\n\u001b[0;31m    m.addConstr(sum(y[i,'*'] for i in parcels) == (sum(x[i])-1) for i in parcels, name = \"connected\")\u001b[0m\n\u001b[0m                ^\u001b[0m\n\u001b[0;31mSyntaxError\u001b[0m\u001b[0;31m:\u001b[0m Generator expression must be parenthesized\n"
     ]
    }
   ],
   "source": [
    " #not sure why this one doesn't work\n",
    "m.addConstr(sum(y[i,'*'] for i in parcels) == (sum(x[i])-1) for i in parcels, name = \"connected\")"
   ]
  },
  {
   "cell_type": "code",
   "execution_count": 16,
   "metadata": {},
   "outputs": [],
   "source": [
    "#z = m.addVars(adjacents, name = \"tail_length_contribution\")\n",
    "#w = m.addVars(parcels, name = \"tail_length\")"
   ]
  },
  {
   "cell_type": "code",
   "execution_count": 17,
   "metadata": {},
   "outputs": [
    {
     "ename": "TypeError",
     "evalue": "must be real number, not Model",
     "output_type": "error",
     "traceback": [
      "\u001b[0;31m---------------------------------------------------------------------------\u001b[0m",
      "\u001b[0;31mTypeError\u001b[0m                                 Traceback (most recent call last)",
      "\u001b[0;32m<ipython-input-17-d8172fd2677b>\u001b[0m in \u001b[0;36m<module>\u001b[0;34m\u001b[0m\n\u001b[1;32m      5\u001b[0m     \u001b[0;32mfor\u001b[0m \u001b[0mj\u001b[0m \u001b[0;32min\u001b[0m \u001b[0mA\u001b[0m\u001b[0;34m:\u001b[0m\u001b[0;34m\u001b[0m\u001b[0;34m\u001b[0m\u001b[0m\n\u001b[1;32m      6\u001b[0m         \u001b[0;32mif\u001b[0m \u001b[0mj\u001b[0m \u001b[0;34m!=\u001b[0m \u001b[0mi\u001b[0m\u001b[0;34m:\u001b[0m\u001b[0;34m\u001b[0m\u001b[0;34m\u001b[0m\u001b[0m\n\u001b[0;32m----> 7\u001b[0;31m             \u001b[0mm\u001b[0m\u001b[0;34m.\u001b[0m\u001b[0maddConstr\u001b[0m\u001b[0;34m(\u001b[0m\u001b[0mz\u001b[0m\u001b[0;34m[\u001b[0m\u001b[0mi\u001b[0m\u001b[0;34m,\u001b[0m\u001b[0mj\u001b[0m\u001b[0;34m]\u001b[0m \u001b[0;34m>=\u001b[0m \u001b[0mw\u001b[0m\u001b[0;34m[\u001b[0m\u001b[0mi\u001b[0m\u001b[0;34m]\u001b[0m \u001b[0;34m+\u001b[0m \u001b[0;36m1\u001b[0m \u001b[0;34m-\u001b[0m \u001b[0mm\u001b[0m\u001b[0;34m*\u001b[0m\u001b[0;34m(\u001b[0m\u001b[0;36m1\u001b[0m \u001b[0;34m-\u001b[0m \u001b[0my\u001b[0m\u001b[0;34m[\u001b[0m\u001b[0mi\u001b[0m\u001b[0;34m,\u001b[0m\u001b[0mj\u001b[0m\u001b[0;34m]\u001b[0m\u001b[0;34m)\u001b[0m\u001b[0;34m,\u001b[0m \u001b[0mname\u001b[0m \u001b[0;34m=\u001b[0m \u001b[0;34m\"tail\"\u001b[0m\u001b[0;34m)\u001b[0m \u001b[0;31m#what do we put for m?\u001b[0m\u001b[0;34m\u001b[0m\u001b[0;34m\u001b[0m\u001b[0m\n\u001b[0m",
      "\u001b[0;32msrc/gurobipy/linexpr.pxi\u001b[0m in \u001b[0;36mgurobipy.LinExpr.__mul__\u001b[0;34m()\u001b[0m\n",
      "\u001b[0;32msrc/gurobipy/quadexpr.pxi\u001b[0m in \u001b[0;36mgurobipy.QuadExpr.__init__\u001b[0;34m()\u001b[0m\n",
      "\u001b[0;32msrc/gurobipy/linexpr.pxi\u001b[0m in \u001b[0;36mgurobipy.LinExpr.__init__\u001b[0;34m()\u001b[0m\n",
      "\u001b[0;31mTypeError\u001b[0m: must be real number, not Model"
     ]
    }
   ],
   "source": [
    "#this doesn't work yet\n",
    "for i in parcels:\n",
    "    A = [item[1] for item in adjacents\n",
    "            if item[0]==i]\n",
    "    for j in A:\n",
    "        if j != i:\n",
    "            m.addConstr(z[i,j] >= w[i] + 1 - m*(1 - y[i,j]), name = \"tail\") #what do we put for m?"
   ]
  },
  {
   "cell_type": "code",
   "execution_count": 15,
   "metadata": {},
   "outputs": [],
   "source": [
    "m.setObjective(x.prod(areas), GRB.MAXIMIZE)"
   ]
  },
  {
   "cell_type": "code",
   "execution_count": 16,
   "metadata": {},
   "outputs": [
    {
     "name": "stdout",
     "output_type": "stream",
     "text": [
      "Warning: linear constraint 2 and linear constraint 3 have the same name \"no_flow\"\n"
     ]
    }
   ],
   "source": [
    "m.write('ParcelModel.lp')"
   ]
  },
  {
   "cell_type": "code",
   "execution_count": null,
   "metadata": {},
   "outputs": [],
   "source": [
    "#note some things in the output file look SUPER weird so definitely need to fix some things."
   ]
  }
 ],
 "metadata": {
  "kernelspec": {
   "display_name": "Python 3",
   "language": "python",
   "name": "python3"
  },
  "language_info": {
   "codemirror_mode": {
    "name": "ipython",
    "version": 3
   },
   "file_extension": ".py",
   "mimetype": "text/x-python",
   "name": "python",
   "nbconvert_exporter": "python",
   "pygments_lexer": "ipython3",
   "version": "3.8.3"
  }
 },
 "nbformat": 4,
 "nbformat_minor": 4
}
